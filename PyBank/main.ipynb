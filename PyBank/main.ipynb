{
 "cells": [
  {
   "cell_type": "markdown",
   "id": "5edd353a-1daf-456e-9b6d-e59d7b7847c3",
   "metadata": {},
   "source": [
    "# PYBANK ANALYSIS "
   ]
  },
  {
   "cell_type": "markdown",
   "id": "147e2666-3856-4195-8c13-010ddb1c5f84",
   "metadata": {},
   "source": [
    "## Project Description "
   ]
  },
  {
   "cell_type": "code",
   "execution_count": null,
   "id": "5a7e56d2-f478-471c-b2dd-f72524379bff",
   "metadata": {},
   "outputs": [],
   "source": []
  }
 ],
 "metadata": {
  "kernelspec": {
   "display_name": "Python 3 (ipykernel)",
   "language": "python",
   "name": "python3"
  },
  "language_info": {
   "codemirror_mode": {
    "name": "ipython",
    "version": 3
   },
   "file_extension": ".py",
   "mimetype": "text/x-python",
   "name": "python",
   "nbconvert_exporter": "python",
   "pygments_lexer": "ipython3",
   "version": "3.9.7"
  }
 },
 "nbformat": 4,
 "nbformat_minor": 5
}
