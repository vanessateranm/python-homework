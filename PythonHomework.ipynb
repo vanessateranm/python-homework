{
 "cells": [
  {
   "cell_type": "code",
   "execution_count": 1,
   "id": "456ac530-405d-4e77-b960-f6bd465a850a",
   "metadata": {},
   "outputs": [
    {
     "ename": "ModuleNotFoundError",
     "evalue": "No module named 'budget_data'",
     "output_type": "error",
     "traceback": [
      "\u001b[0;31m---------------------------------------------------------------------------\u001b[0m",
      "\u001b[0;31mModuleNotFoundError\u001b[0m                       Traceback (most recent call last)",
      "\u001b[0;32m/var/folders/w1/48020hx94kn5jmxmf93_7lr80000gn/T/ipykernel_2817/2570610785.py\u001b[0m in \u001b[0;36m<module>\u001b[0;34m\u001b[0m\n\u001b[0;32m----> 1\u001b[0;31m \u001b[0;32mimport\u001b[0m \u001b[0mbudget_data\u001b[0m\u001b[0;34m\u001b[0m\u001b[0;34m\u001b[0m\u001b[0m\n\u001b[0m",
      "\u001b[0;31mModuleNotFoundError\u001b[0m: No module named 'budget_data'"
     ]
    }
   ],
   "source": [
    "import budget_data"
   ]
  },
  {
   "cell_type": "code",
   "execution_count": 2,
   "id": "5e90ecfc-7b05-4446-8474-533d7af0acf9",
   "metadata": {},
   "outputs": [],
   "source": [
    "#Importing csv"
   ]
  },
  {
   "cell_type": "code",
   "execution_count": 14,
   "id": "9fc70c67-99fb-4488-8c56-34d377626548",
   "metadata": {},
   "outputs": [],
   "source": [
    "path = \"budget_data.csv\""
   ]
  },
  {
   "cell_type": "code",
   "execution_count": 16,
   "id": "16f7d9a0-133b-470c-956f-69e223c81350",
   "metadata": {},
   "outputs": [
    {
     "data": {
      "text/html": [
       "<div>\n",
       "<style scoped>\n",
       "    .dataframe tbody tr th:only-of-type {\n",
       "        vertical-align: middle;\n",
       "    }\n",
       "\n",
       "    .dataframe tbody tr th {\n",
       "        vertical-align: top;\n",
       "    }\n",
       "\n",
       "    .dataframe thead th {\n",
       "        text-align: right;\n",
       "    }\n",
       "</style>\n",
       "<table border=\"1\" class=\"dataframe\">\n",
       "  <thead>\n",
       "    <tr style=\"text-align: right;\">\n",
       "      <th></th>\n",
       "      <th>Date</th>\n",
       "      <th>Profit/Losses</th>\n",
       "    </tr>\n",
       "  </thead>\n",
       "  <tbody>\n",
       "    <tr>\n",
       "      <th>0</th>\n",
       "      <td>Jan-2010</td>\n",
       "      <td>867884</td>\n",
       "    </tr>\n",
       "    <tr>\n",
       "      <th>1</th>\n",
       "      <td>Feb-2010</td>\n",
       "      <td>984655</td>\n",
       "    </tr>\n",
       "    <tr>\n",
       "      <th>2</th>\n",
       "      <td>Mar-2010</td>\n",
       "      <td>322013</td>\n",
       "    </tr>\n",
       "    <tr>\n",
       "      <th>3</th>\n",
       "      <td>Apr-2010</td>\n",
       "      <td>-69417</td>\n",
       "    </tr>\n",
       "    <tr>\n",
       "      <th>4</th>\n",
       "      <td>May-2010</td>\n",
       "      <td>310503</td>\n",
       "    </tr>\n",
       "    <tr>\n",
       "      <th>...</th>\n",
       "      <td>...</td>\n",
       "      <td>...</td>\n",
       "    </tr>\n",
       "    <tr>\n",
       "      <th>81</th>\n",
       "      <td>Oct-2016</td>\n",
       "      <td>102685</td>\n",
       "    </tr>\n",
       "    <tr>\n",
       "      <th>82</th>\n",
       "      <td>Nov-2016</td>\n",
       "      <td>795914</td>\n",
       "    </tr>\n",
       "    <tr>\n",
       "      <th>83</th>\n",
       "      <td>Dec-2016</td>\n",
       "      <td>60988</td>\n",
       "    </tr>\n",
       "    <tr>\n",
       "      <th>84</th>\n",
       "      <td>Jan-2017</td>\n",
       "      <td>138230</td>\n",
       "    </tr>\n",
       "    <tr>\n",
       "      <th>85</th>\n",
       "      <td>Feb-2017</td>\n",
       "      <td>671099</td>\n",
       "    </tr>\n",
       "  </tbody>\n",
       "</table>\n",
       "<p>86 rows × 2 columns</p>\n",
       "</div>"
      ],
      "text/plain": [
       "        Date  Profit/Losses\n",
       "0   Jan-2010         867884\n",
       "1   Feb-2010         984655\n",
       "2   Mar-2010         322013\n",
       "3   Apr-2010         -69417\n",
       "4   May-2010         310503\n",
       "..       ...            ...\n",
       "81  Oct-2016         102685\n",
       "82  Nov-2016         795914\n",
       "83  Dec-2016          60988\n",
       "84  Jan-2017         138230\n",
       "85  Feb-2017         671099\n",
       "\n",
       "[86 rows x 2 columns]"
      ]
     },
     "execution_count": 16,
     "metadata": {},
     "output_type": "execute_result"
    }
   ],
   "source": [
    "pd.read_csv(path)"
   ]
  },
  {
   "cell_type": "code",
   "execution_count": 17,
   "id": "57e60af7-d917-4caa-ae14-fd41354da1d4",
   "metadata": {},
   "outputs": [],
   "source": [
    "from pathlib import Path"
   ]
  },
  {
   "cell_type": "markdown",
   "id": "bc3aa32c-3c32-4812-8bed-eddf4850f83b",
   "metadata": {},
   "source": [
    "#Total number of months included in the database"
   ]
  },
  {
   "cell_type": "code",
   "execution_count": 52,
   "id": "09af5ebd-69a5-4f9e-8382-905459153664",
   "metadata": {},
   "outputs": [
    {
     "data": {
      "text/plain": [
       "86"
      ]
     },
     "execution_count": 52,
     "metadata": {},
     "output_type": "execute_result"
    }
   ],
   "source": [
    "len(df)"
   ]
  },
  {
   "cell_type": "markdown",
   "id": "be0426b2-9359-49dc-a1a7-8b71ab01b461",
   "metadata": {},
   "source": [
    "#Net total amount of profit/losses over entire period"
   ]
  },
  {
   "cell_type": "code",
   "execution_count": 18,
   "id": "d0c24186-87db-434f-9bfc-e60f7477be07",
   "metadata": {},
   "outputs": [],
   "source": [
    "profit_losses={'867884':True,'984655':True}"
   ]
  },
  {
   "cell_type": "code",
   "execution_count": 19,
   "id": "affe8db9-dffa-4b16-9a5e-dd0dc70b7cba",
   "metadata": {},
   "outputs": [
    {
     "data": {
      "text/plain": [
       "{'867884': True, '984655': True}"
      ]
     },
     "execution_count": 19,
     "metadata": {},
     "output_type": "execute_result"
    }
   ],
   "source": [
    "profit_losses"
   ]
  },
  {
   "cell_type": "code",
   "execution_count": 20,
   "id": "11b70797-5c97-407f-b632-12302d4ecdfd",
   "metadata": {},
   "outputs": [],
   "source": [
    "date={'Jan-2010':True}"
   ]
  },
  {
   "cell_type": "code",
   "execution_count": 21,
   "id": "20d21fd3-35ff-47bf-b1a3-542bc2a26f30",
   "metadata": {},
   "outputs": [
    {
     "data": {
      "text/plain": [
       "{'Jan-2010': True}"
      ]
     },
     "execution_count": 21,
     "metadata": {},
     "output_type": "execute_result"
    }
   ],
   "source": [
    "date"
   ]
  },
  {
   "cell_type": "markdown",
   "id": "a5432df1-41bb-401d-bb4a-e456ad7afda1",
   "metadata": {},
   "source": [
    "#The greatest increase in profits (date and amount) over the entire period.\n",
    "\n",
    "#The greatest decrease in losses (date and amount) over the entire period."
   ]
  },
  {
   "cell_type": "code",
   "execution_count": 47,
   "id": "c3627a61-6bb7-4c47-bcd7-c8dbd9e1fd3f",
   "metadata": {},
   "outputs": [
    {
     "data": {
      "text/plain": [
       "(1170593, -1196225)"
      ]
     },
     "execution_count": 47,
     "metadata": {},
     "output_type": "execute_result"
    }
   ],
   "source": [
    "df[\"Profit/Losses\"].max(),df[\"Profit/Losses\"].min()"
   ]
  },
  {
   "cell_type": "code",
   "execution_count": null,
   "id": "89314bc5-43f3-4a38-9f7b-a54e64a2ef7c",
   "metadata": {},
   "outputs": [],
   "source": []
  }
 ],
 "metadata": {
  "kernelspec": {
   "display_name": "Python 3 (ipykernel)",
   "language": "python",
   "name": "python3"
  },
  "language_info": {
   "codemirror_mode": {
    "name": "ipython",
    "version": 3
   },
   "file_extension": ".py",
   "mimetype": "text/x-python",
   "name": "python",
   "nbconvert_exporter": "python",
   "pygments_lexer": "ipython3",
   "version": "3.9.7"
  }
 },
 "nbformat": 4,
 "nbformat_minor": 5
}
